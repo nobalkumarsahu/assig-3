{
 "cells": [
  {
   "cell_type": "code",
   "execution_count": null,
   "id": "b9b7284b",
   "metadata": {},
   "outputs": [],
   "source": [
    "list = (1, 2, 3, 4, 5, 6, 7, 8, 9)\n",
    "count_odd = 0\n",
    "count_even = 0\n",
    "for num in list:\n",
    "    if num % 2 == 0:\n",
    "        count_even += 1\n",
    "    else:\n",
    "        count_odd += 1\n",
    "print(\"Even numbers in the list: \",count_even)\n",
    "print(\"Odd numbers in the list: \",count_odd)\n",
    "        "
   ]
  }
 ],
 "metadata": {
  "kernelspec": {
   "display_name": "Python 3 (ipykernel)",
   "language": "python",
   "name": "python3"
  },
  "language_info": {
   "codemirror_mode": {
    "name": "ipython",
    "version": 3
   },
   "file_extension": ".py",
   "mimetype": "text/x-python",
   "name": "python",
   "nbconvert_exporter": "python",
   "pygments_lexer": "ipython3",
   "version": "3.10.0"
  }
 },
 "nbformat": 4,
 "nbformat_minor": 5
}
